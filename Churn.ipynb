{
 "cells": [
  {
   "cell_type": "code",
   "execution_count": 1,
   "id": "196fcb28",
   "metadata": {},
   "outputs": [],
   "source": [
    "import numpy as np\n",
    "import pandas as pd\n",
    "import matplotlib . pyplot as plt\n",
    "import seaborn as sns\n"
   ]
  },
  {
   "cell_type": "code",
   "execution_count": 3,
   "id": "4f513200",
   "metadata": {},
   "outputs": [],
   "source": [
    "df=pd.read_csv('C://Users//Radwa//Desktop//WA_Fn-UseC_-Telco-Customer-Churn.csv')"
   ]
  },
  {
   "cell_type": "code",
   "execution_count": null,
   "id": "4318f3ac",
   "metadata": {},
   "outputs": [],
   "source": [
    "df.head().T"
   ]
  },
  {
   "cell_type": "code",
   "execution_count": null,
   "id": "bd7686b8",
   "metadata": {},
   "outputs": [],
   "source": [
    "df.info()"
   ]
  },
  {
   "cell_type": "code",
   "execution_count": null,
   "id": "73a4015d",
   "metadata": {},
   "outputs": [],
   "source": [
    "df.shape"
   ]
  },
  {
   "cell_type": "code",
   "execution_count": null,
   "id": "200382d2",
   "metadata": {},
   "outputs": [],
   "source": [
    "df.describe()"
   ]
  },
  {
   "cell_type": "code",
   "execution_count": null,
   "id": "076a1ea3",
   "metadata": {},
   "outputs": [],
   "source": [
    "df.describe(include='O').T"
   ]
  },
  {
   "cell_type": "code",
   "execution_count": null,
   "id": "afdf2be2",
   "metadata": {},
   "outputs": [],
   "source": [
    "df.columns"
   ]
  },
  {
   "cell_type": "code",
   "execution_count": null,
   "id": "5bc17e44",
   "metadata": {},
   "outputs": [],
   "source": [
    "df.drop('customerID',axis='columns',inplace=True)"
   ]
  },
  {
   "cell_type": "code",
   "execution_count": null,
   "id": "fc52506b",
   "metadata": {},
   "outputs": [],
   "source": [
    "df.head().T"
   ]
  },
  {
   "cell_type": "code",
   "execution_count": null,
   "id": "b68ea871",
   "metadata": {},
   "outputs": [],
   "source": [
    "#convert data type of TotalCharges from object to float \n",
    "#check missing value "
   ]
  },
  {
   "cell_type": "code",
   "execution_count": null,
   "id": "4f581397",
   "metadata": {},
   "outputs": [],
   "source": [
    "df.isnull().sum()"
   ]
  },
  {
   "cell_type": "code",
   "execution_count": null,
   "id": "1ec3f3ed",
   "metadata": {},
   "outputs": [],
   "source": [
    "#know of rows that have missing value"
   ]
  },
  {
   "cell_type": "code",
   "execution_count": null,
   "id": "09782501",
   "metadata": {},
   "outputs": [],
   "source": [
    "df[df['TotalCharges']==' '] "
   ]
  },
  {
   "cell_type": "code",
   "execution_count": null,
   "id": "f1a3261a",
   "metadata": {},
   "outputs": [],
   "source": [
    "#put nan in missing values"
   ]
  },
  {
   "cell_type": "code",
   "execution_count": null,
   "id": "3784fdf4",
   "metadata": {},
   "outputs": [],
   "source": [
    "df['TotalCharges'] =pd.to_numeric(df['TotalCharges'],errors='coerce')"
   ]
  },
  {
   "cell_type": "code",
   "execution_count": null,
   "id": "d2fadc8b",
   "metadata": {},
   "outputs": [],
   "source": [
    "df.iloc[[488,753,936,1340,3331,3826,4380,5218,6670,6754],:]\n"
   ]
  },
  {
   "cell_type": "code",
   "execution_count": null,
   "id": "41013c96",
   "metadata": {},
   "outputs": [],
   "source": [
    "#fill missing value"
   ]
  },
  {
   "cell_type": "code",
   "execution_count": null,
   "id": "0aa2d539",
   "metadata": {},
   "outputs": [],
   "source": [
    "df['TotalCharges']=df['TotalCharges'].fillna(df['TotalCharges'].mean())"
   ]
  },
  {
   "cell_type": "code",
   "execution_count": null,
   "id": "8ef2e185",
   "metadata": {},
   "outputs": [],
   "source": [
    "#check after filling missing values"
   ]
  },
  {
   "cell_type": "code",
   "execution_count": null,
   "id": "084b3a9e",
   "metadata": {},
   "outputs": [],
   "source": [
    "df.isnull().sum()"
   ]
  },
  {
   "cell_type": "code",
   "execution_count": null,
   "id": "2b34c842",
   "metadata": {},
   "outputs": [],
   "source": [
    "#cleaning Data"
   ]
  },
  {
   "cell_type": "code",
   "execution_count": null,
   "id": "845b1df2",
   "metadata": {},
   "outputs": [],
   "source": [
    "df.columns=df.columns.str.lower()"
   ]
  },
  {
   "cell_type": "code",
   "execution_count": null,
   "id": "7b4de149",
   "metadata": {},
   "outputs": [],
   "source": [
    "df.columns"
   ]
  },
  {
   "cell_type": "code",
   "execution_count": null,
   "id": "88274a58",
   "metadata": {},
   "outputs": [],
   "source": [
    "df.churn=(df.churn=='Yes').astype(int)"
   ]
  },
  {
   "cell_type": "code",
   "execution_count": null,
   "id": "3b87cb03",
   "metadata": {},
   "outputs": [],
   "source": [
    "df['churn']"
   ]
  },
  {
   "cell_type": "code",
   "execution_count": null,
   "id": "1ad43a98",
   "metadata": {
    "scrolled": true
   },
   "outputs": [],
   "source": [
    "df.churn.value_counts(normalize=True)"
   ]
  },
  {
   "cell_type": "code",
   "execution_count": null,
   "id": "25888dcf",
   "metadata": {},
   "outputs": [],
   "source": [
    "#according this historical data there about 73% not churn and 26 % already churn imbalance for modelling"
   ]
  },
  {
   "cell_type": "code",
   "execution_count": null,
   "id": "cfae0977",
   "metadata": {},
   "outputs": [],
   "source": [
    "# Exploratory Data Analysis"
   ]
  },
  {
   "cell_type": "code",
   "execution_count": null,
   "id": "93e9f5cf",
   "metadata": {},
   "outputs": [],
   "source": [
    "#divide data to numerical and catgorical"
   ]
  },
  {
   "cell_type": "code",
   "execution_count": null,
   "id": "4fff7555",
   "metadata": {},
   "outputs": [],
   "source": [
    "catgorical=list(df.select_dtypes(include=['object']))\n",
    "numerical=list(df.select_dtypes(include=['number']))"
   ]
  },
  {
   "cell_type": "code",
   "execution_count": null,
   "id": "d53607fd",
   "metadata": {},
   "outputs": [],
   "source": [
    "df[catgorical].nunique()"
   ]
  },
  {
   "cell_type": "code",
   "execution_count": null,
   "id": "521b0212",
   "metadata": {},
   "outputs": [],
   "source": [
    "df[numerical].nunique()"
   ]
  },
  {
   "cell_type": "markdown",
   "id": "1365fc1f",
   "metadata": {},
   "source": [
    "# select important columns"
   ]
  },
  {
   "cell_type": "code",
   "execution_count": null,
   "id": "4155c8af",
   "metadata": {},
   "outputs": [],
   "source": [
    "churn_mean=df.churn.mean()    #global mean\n",
    "round(churn_mean,2)"
   ]
  },
  {
   "cell_type": "code",
   "execution_count": null,
   "id": "6a3c3c4b",
   "metadata": {},
   "outputs": [],
   "source": [
    "from IPython import display\n",
    "for each_column in catgorical:          #each_column=features\n",
    "    \n",
    "    df_group=df.groupby(by=each_column).churn.agg(['mean'])\n",
    "    \n",
    "    df_group['diff']=df_group['mean']-churn_mean\n",
    "    \n",
    "    df_group['risk']=df_group['mean']/churn_mean\n",
    "    \n",
    "    print(df_group)\n",
    "        \n",
    "    \n",
    "    \n",
    "    "
   ]
  },
  {
   "cell_type": "code",
   "execution_count": null,
   "id": "4641edab",
   "metadata": {},
   "outputs": [],
   "source": [
    "\n",
    "for each_column in catgorical:\n",
    "    plot =sns.countplot(x=each_column,hue='churn',data=df)\n",
    "    plt.show()"
   ]
  },
  {
   "cell_type": "code",
   "execution_count": null,
   "id": "67ed0d80",
   "metadata": {},
   "outputs": [],
   "source": [
    "numerical"
   ]
  },
  {
   "cell_type": "code",
   "execution_count": null,
   "id": "18115cfe",
   "metadata": {},
   "outputs": [],
   "source": [
    "def kdeplot_churn(col,ax=None):\n",
    "\n",
    "    ax = sns.kdeplot(df[col][(df['churn'] == 1) ],color='green',ax=ax)\n",
    "    ax = sns.kdeplot(df[col][(df['churn'] == 0) ],color='red',ax=ax)\n",
    "    ax.legend(['churn','Not churn'],loc='upper right')\n",
    "    ax.set_ylabel('Density')\n",
    "    ax.set_xlabel(col)\n",
    "    ax.set_title('Distribution of '+ col +'by churn')\n"
   ]
  },
  {
   "cell_type": "code",
   "execution_count": null,
   "id": "b35de23b",
   "metadata": {},
   "outputs": [],
   "source": [
    "fig, axes = plt.subplots(nrows = 1,ncols = 3,figsize = (20,5))\n",
    "kdeplot_churn('tenure',ax=axes[0])\n",
    "kdeplot_churn('monthlycharges',ax=axes[1])\n",
    "kdeplot_churn('totalcharges',ax=axes[2])"
   ]
  },
  {
   "cell_type": "code",
   "execution_count": null,
   "id": "47455448",
   "metadata": {},
   "outputs": [],
   "source": [
    "fig, axes = plt.subplots(nrows = 1,ncols = 3,figsize = (30,10))\n",
    "ax = sns.boxplot(x='churn',y='tenure',data=df,ax=axes[0])\n",
    "ax = sns.boxplot(x='churn',y='monthlycharges',data=df,ax=axes[1])\n",
    "ax = sns.boxplot(x='churn',y='totalcharges',data=df,ax=axes[2])\n"
   ]
  },
  {
   "cell_type": "markdown",
   "id": "b8e21152",
   "metadata": {},
   "source": [
    "# prepare data for modeling"
   ]
  },
  {
   "cell_type": "code",
   "execution_count": null,
   "id": "eec5c71d",
   "metadata": {},
   "outputs": [],
   "source": [
    "catgorical=list(df.select_dtypes(include=['object']))\n"
   ]
  },
  {
   "cell_type": "code",
   "execution_count": null,
   "id": "96040594",
   "metadata": {},
   "outputs": [],
   "source": [
    "catgorical"
   ]
  },
  {
   "cell_type": "code",
   "execution_count": null,
   "id": "6f70b235",
   "metadata": {},
   "outputs": [],
   "source": [
    "con_catgorical=pd.get_dummies(df,columns=catgorical)"
   ]
  },
  {
   "cell_type": "code",
   "execution_count": null,
   "id": "f8fe813e",
   "metadata": {},
   "outputs": [],
   "source": [
    "con_catgorical.head()    #=churn_dummies"
   ]
  },
  {
   "cell_type": "code",
   "execution_count": null,
   "id": "3504170f",
   "metadata": {},
   "outputs": [],
   "source": [
    "from sklearn.model_selection import train_test_split\n",
    "from sklearn.linear_model import LogisticRegression, SGDClassifier\n",
    "from sklearn.tree import DecisionTreeClassifier\n",
    "from sklearn.svm import LinearSVC, SVC\n",
    "from sklearn.neighbors import KNeighborsClassifier\n",
    "from sklearn import metrics\n",
    "from sklearn.naive_bayes import GaussianNB"
   ]
  },
  {
   "cell_type": "code",
   "execution_count": null,
   "id": "3f47c6ec",
   "metadata": {},
   "outputs": [],
   "source": [
    "X_smote=con_catgorical\n",
    "\n",
    "y_smote=con_catgorical.drop('churn',axis=1)\n",
    "y_smote = con_catgorical['churn']\n",
    "x_train, x_test, y_train, y_test = train_test_split(X_smote, y_smote, test_size = 0.2, random_state =0)\n",
    "\n",
    "          \n"
   ]
  },
  {
   "cell_type": "markdown",
   "id": "bd880260",
   "metadata": {},
   "source": [
    "logistic regression"
   ]
  },
  {
   "cell_type": "code",
   "execution_count": null,
   "id": "acdcf00c",
   "metadata": {},
   "outputs": [],
   "source": [
    "lr= LogisticRegression(random_state=0)\n",
    "lr.fit(X_train, y_train)\n",
    "over_fit=lr.score(X_test, y_test)   # test over fit\n",
    "\n",
    "print(lr)\n"
   ]
  },
  {
   "cell_type": "markdown",
   "id": "44e2c89f",
   "metadata": {},
   "source": [
    "decision tree"
   ]
  },
  {
   "cell_type": "code",
   "execution_count": null,
   "id": "25cec310",
   "metadata": {},
   "outputs": [],
   "source": [
    "dt = DecisionTreeClassifier(random_state=0)\n",
    "dt.fit(x_train, y_train)\n",
    "over_fit=dt.score(x_test, y_test)   # test over fit\n",
    "print(over_fit)"
   ]
  },
  {
   "cell_type": "markdown",
   "id": "72b71bf1",
   "metadata": {},
   "source": [
    "support vector machine"
   ]
  },
  {
   "cell_type": "code",
   "execution_count": null,
   "id": "53948032",
   "metadata": {},
   "outputs": [],
   "source": [
    "svm = SVC(random_state=0, C=1.5)\n",
    "svm.fit(x_train, y_train)\n",
    "accuracy = svm.score(x_test, y_test)\n",
    "print(accuracy)"
   ]
  },
  {
   "cell_type": "markdown",
   "id": "349b1070",
   "metadata": {},
   "source": [
    "k-nearst neighour"
   ]
  },
  {
   "cell_type": "code",
   "execution_count": null,
   "id": "a7a604da",
   "metadata": {},
   "outputs": [],
   "source": [
    "knn_al=KNeighborsClassifier(random_state=0)\n",
    "knn_al.fit(x_train, y_train)\n",
    "knn_accuracy = knn_model.score(x_test, y_test)\n",
    "print(knn_al.score(x_train, y_train))    \n",
    "print(knn_accuracy)"
   ]
  },
  {
   "cell_type": "markdown",
   "id": "9aeb2127",
   "metadata": {},
   "source": [
    "Naive bayes"
   ]
  },
  {
   "cell_type": "code",
   "execution_count": null,
   "id": "ac9a67ad",
   "metadata": {},
   "outputs": [],
   "source": [
    "model= GaussianNB()\n",
    "model.fit(X_train, y_train)\n",
    "model.score(X_train, y_train)\n",
    "y_pred = model.predict(X_test)\n",
    "print(\"Accuracy:\",metrics.accuracy_score(y_test, y_pred))"
   ]
  },
  {
   "cell_type": "code",
   "execution_count": null,
   "id": "59f1b47b",
   "metadata": {},
   "outputs": [],
   "source": []
  },
  {
   "cell_type": "code",
   "execution_count": null,
   "id": "1a28e4af",
   "metadata": {},
   "outputs": [],
   "source": []
  },
  {
   "cell_type": "code",
   "execution_count": null,
   "id": "d6d336d1",
   "metadata": {},
   "outputs": [],
   "source": []
  },
  {
   "cell_type": "code",
   "execution_count": null,
   "id": "9db940db",
   "metadata": {},
   "outputs": [],
   "source": []
  },
  {
   "cell_type": "code",
   "execution_count": null,
   "id": "97b3f587",
   "metadata": {},
   "outputs": [],
   "source": []
  },
  {
   "cell_type": "code",
   "execution_count": null,
   "id": "143b6c27",
   "metadata": {},
   "outputs": [],
   "source": []
  },
  {
   "cell_type": "code",
   "execution_count": null,
   "id": "7dbb4dc1",
   "metadata": {},
   "outputs": [],
   "source": []
  }
 ],
 "metadata": {
  "kernelspec": {
   "display_name": "Python 3 (ipykernel)",
   "language": "python",
   "name": "python3"
  },
  "language_info": {
   "codemirror_mode": {
    "name": "ipython",
    "version": 3
   },
   "file_extension": ".py",
   "mimetype": "text/x-python",
   "name": "python",
   "nbconvert_exporter": "python",
   "pygments_lexer": "ipython3",
   "version": "3.9.12"
  }
 },
 "nbformat": 4,
 "nbformat_minor": 5
}
